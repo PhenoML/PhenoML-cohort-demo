{
 "cells": [
  {
   "cell_type": "markdown",
   "metadata": {},
   "source": [
    "### Cohort Analysis Demo\n",
    "This notebook demonstrates how to:\n",
    "1. Generate a SQL query defining a cohort using PhenoML experimental cohort API\n",
    "2. Query the cohort data from BigQuery\n",
    "3. Analyze patient demographics, conditions, and medications"
   ]
  },
  {
   "cell_type": "code",
   "execution_count": null,
   "metadata": {},
   "outputs": [],
   "source": [
    "from cohort_api import CohortAPI\n",
    "from google.cloud import bigquery\n",
    "import os"
   ]
  },
  {
   "cell_type": "code",
   "execution_count": null,
   "metadata": {},
   "outputs": [],
   "source": [
    "client_id = os.getenv('CLIENT_ID')\n",
    "client_secret = os.getenv('CLIENT_SECRET')"
   ]
  },
  {
   "cell_type": "code",
   "execution_count": null,
   "metadata": {},
   "outputs": [],
   "source": [
    "cohort_api = CohortAPI(client_id, client_secret)"
   ]
  },
  {
   "cell_type": "code",
   "execution_count": null,
   "metadata": {},
   "outputs": [],
   "source": [
    "query = \"over 40 and prescribed statins\""
   ]
  },
  {
   "cell_type": "code",
   "execution_count": null,
   "metadata": {},
   "outputs": [],
   "source": [
    "# Get the cohort SQL query from PhenoML API. Set exclude_deceased to True or False as desired for your analysis\n",
    "cohort_response_sql = cohort_api.get_cohort_response(search_query=query, exclude_deceased=True, verbose=False)['sql']"
   ]
  },
  {
   "cell_type": "code",
   "execution_count": null,
   "metadata": {},
   "outputs": [],
   "source": [
    "# For a more verbose exploration of the specific codes that are generated\n",
    "cohort_response = cohort_api.get_cohort_response(search_query=query, exclude_deceased=True, verbose=True)\n",
    "cohort_response_sql = cohort_response['sql']"
   ]
  },
  {
   "cell_type": "code",
   "execution_count": null,
   "metadata": {},
   "outputs": [],
   "source": [
    "# Look at queries if desired\n",
    "for query in cohort_response['queries']:\n",
    "    print(f\"\\nResource: {query['resource']}\")\n",
    "    print(f\"Exclude: {query['exclude']}\")\n",
    "    print(f\"Search Params: {query['searchParams']}\")\n",
    "\n",
    "# Look at extracted codes\n",
    "if 'code_extracts' in cohort_response:\n",
    "    print(\"\\nExtracted Codes:\")\n",
    "    for code in cohort_response['code_extracts']:\n",
    "        print(f\"{code['resource']} - {code['description']} ({code['code']})\")"
   ]
  },
  {
   "cell_type": "code",
   "execution_count": null,
   "metadata": {},
   "outputs": [],
   "source": [
    "# Use this dictionary to map the SQL output to your specific dataset and project ID. Synthea public BQ data provided for demo purposes\n",
    "bq_fhir_table_mapping = {\n",
    "    \"PROJECT_ID\": \"bigquery-public-data\",\n",
    "    \"DATASET\": \"fhir_synthea\",\n",
    "    \"PATIENT_TABLE\": \"patient\",\n",
    "    \"CONDITION_TABLE\": \"condition\",\n",
    "    \"MEDICATIONREQUEST_TABLE\": \"medication_request\"\n",
    "}\n",
    "\n",
    "bq_fhir_query = cohort_response_sql.format(**{key: f\"{value}\" for key, value in bq_fhir_table_mapping.items()})"
   ]
  },
  {
   "cell_type": "code",
   "execution_count": null,
   "metadata": {},
   "outputs": [],
   "source": [
    "# Initialize BQ client. \n",
    "# This code assumes you're running this notebook with the necessary permissions to the BigQuery datasets you're querying \n",
    "# (e.g. via Vertex AI Workbench notebook instance with instance service account with required roles/permissions)\n",
    "client = bigquery.Client()\n",
    "\n",
    "query_job = client.query(bq_fhir_query)\n",
    "\n",
    "# Fetch the results and extract IDs\n",
    "results = query_job.result()\n",
    "cohort_ptid_list = [row.id for row in results]\n",
    "\n",
    "print(len(cohort_ptid_list), \": total patients found that meet cohort description\")\n"
   ]
  },
  {
   "cell_type": "code",
   "execution_count": null,
   "metadata": {},
   "outputs": [],
   "source": [
    "# Define the query parameters that will be used for the subsequent queries\n",
    "job_config = bigquery.QueryJobConfig(\n",
    "    query_parameters=[\n",
    "        bigquery.ArrayQueryParameter(\"patient_ids\", \"STRING\", cohort_ptid_list)\n",
    "    ]\n",
    ")"
   ]
  },
  {
   "cell_type": "code",
   "execution_count": null,
   "metadata": {},
   "outputs": [],
   "source": [
    "##Analyze cohort: Patient Demographic Analysis\n",
    "\n",
    "#Query template for Patient table. Replace the fields with the ones you need for your analysis\n",
    "pt_query_template = \"\"\"\n",
    "SELECT\n",
    "  id, \n",
    "  gender,\n",
    "  birthdate\n",
    "FROM\n",
    "  {PROJECT_ID}.{DATASET}.{PATIENT_TABLE} AS Patient\n",
    "WHERE\n",
    "  id IN UNNEST(@patient_ids)\n",
    "\"\"\"\n",
    "\n",
    "# Replace placeholders in the query with your project details\n",
    "pt_query = pt_query_template.format(\n",
    "    PROJECT_ID=bq_fhir_table_mapping[\"PROJECT_ID\"],\n",
    "    DATASET=bq_fhir_table_mapping[\"DATASET\"],\n",
    "    PATIENT_TABLE=bq_fhir_table_mapping[\"PATIENT_TABLE\"]\n",
    ")\n",
    "\n",
    "\n",
    "# Execute the query\n",
    "pt_df = client.query(pt_query, job_config=job_config).to_dataframe()\n",
    "\n",
    "pt_df.head()"
   ]
  },
  {
   "cell_type": "code",
   "execution_count": null,
   "metadata": {},
   "outputs": [],
   "source": [
    "##Analyze cohort: Conditions \n",
    "\n",
    "#Query template for Condition table. Replace the fields with the ones you need for your analysis\n",
    "cond_query_template = \"\"\"\n",
    "SELECT\n",
    "  subject.patientid, \n",
    "  coding.code, \n",
    "  coding.display,\n",
    "  coding.system, \n",
    "  onset.dateTime\n",
    "FROM\n",
    "  {PROJECT_ID}.{DATASET}.{CONDITION_TABLE} AS Condition, \n",
    "  UNNEST(Condition.code.coding) AS coding\n",
    "WHERE\n",
    "  subject.patientid IN UNNEST(@patient_ids)\n",
    "\"\"\"\n",
    "\n",
    "# Replace placeholders in the query\n",
    "cond_query = cond_query_template.format(\n",
    "    PROJECT_ID=bq_fhir_table_mapping[\"PROJECT_ID\"],\n",
    "    DATASET=bq_fhir_table_mapping[\"DATASET\"],\n",
    "    CONDITION_TABLE=bq_fhir_table_mapping[\"CONDITION_TABLE\"]\n",
    ")\n",
    "\n",
    "# Execute the query\n",
    "cond_df = client.query(cond_query, job_config=job_config).to_dataframe()\n",
    "cond_df.head()\n"
   ]
  },
  {
   "cell_type": "code",
   "execution_count": null,
   "metadata": {},
   "outputs": [],
   "source": [
    "##Analyze cohort: Medications\n",
    "\n",
    "#Query template for Medication Request table. Replace the fields with the ones you need for your analysis\n",
    "meds_query_template = \"\"\"\n",
    "SELECT\n",
    "  subject.patientid, \n",
    "  coding.code, \n",
    "  coding.display,\n",
    "  coding.system, \n",
    "  authoredOn\n",
    "FROM\n",
    "  {PROJECT_ID}.{DATASET}.{MEDICATIONREQUEST_TABLE} AS MedicationRequest, \n",
    "  UNNEST(MedicationRequest.medication.codeableConcept.coding) AS coding\n",
    "WHERE\n",
    "  subject.patientid IN UNNEST(@patient_ids)\n",
    "\"\"\"\n",
    "\n",
    "# Replace placeholders in the query\n",
    "meds_query = meds_query_template.format(\n",
    "    PROJECT_ID=bq_fhir_table_mapping[\"PROJECT_ID\"],\n",
    "    DATASET=bq_fhir_table_mapping[\"DATASET\"],\n",
    "    MEDICATIONREQUEST_TABLE=bq_fhir_table_mapping[\"MEDICATIONREQUEST_TABLE\"]\n",
    ")\n",
    "\n",
    "# Execute the medications query\n",
    "meds_df = client.query(meds_query, job_config=job_config).to_dataframe()\n",
    "meds_df.head()\n"
   ]
  }
 ],
 "metadata": {
  "language_info": {
   "name": "python"
  }
 },
 "nbformat": 4,
 "nbformat_minor": 2
}
